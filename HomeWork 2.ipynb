{
 "cells": [
  {
   "cell_type": "markdown",
   "metadata": {},
   "source": [
    "### Homework 2,  Advanced Probability for Discrete Systems"
   ]
  },
  {
   "cell_type": "markdown",
   "metadata": {},
   "source": [
    "#### In this problem, I suppose that I have 100 students. They are going to take an exam, let us say TOEFL exam. I am attending this exam with 5 of my friends in which I have met 20 students. I am going to calculate the probability of meeting with my friends from studnets who I met. \n",
    "\n",
    "total students = 100,  \n",
    "students who I met = 20,   \n",
    "being of my frinds = 5"
   ]
  },
  {
   "cell_type": "markdown",
   "metadata": {},
   "source": [
    "### Explanation\n",
    "\n",
    "In the question, we were asked to calculate the probability of meeting 100 out of 60000 members in the Umuttepe Campus, meanwhile the number of my friends are 150.   \n",
    "In my example, I made the same operation but I suggested another environment to make it diffeternt from of friends' suggestion.\n",
    "In this case, we have 100 person and it is not for sure how many of friends I am going to meet, therefore I am subtracting the possibility of meeting all of them from none of them as following,  \n",
    "P(A) + P(A)' = 1  \n",
    "\n",
    "let us suppose that    \n",
    "A : the probability of the friends I might meet,     \n",
    "    then P(A) = 1- P(A)' = 1 - C(100-5,20)    \n",
    "B : Sample Sapce, then P(B) = C(100,20)    \n",
    "The result of the probability is: P(A)/P(B)   "
   ]
  },
  {
   "cell_type": "code",
   "execution_count": 27,
   "metadata": {},
   "outputs": [
    {
     "name": "stdout",
     "output_type": "stream",
     "text": [
      "\n",
      " The result of the probability is: P(A)/P(B)=  0.6806905580101457\n"
     ]
    }
   ],
   "source": [
    "def factorial(x):\n",
    "  if(x==1):\n",
    "    return 1\n",
    "  else:\n",
    "    return x * factorial(x-1) \n",
    "event_space= float(factorial(95)/(factorial(75)*factorial(20))) # this is the probability of meeting none of my friedns\n",
    "sample_space= float(factorial(100)/(factorial(80)*factorial(20))) # this is the probability of meeting 20 out of 100\n",
    "Result= 1-float(event_space/sample_space)\n",
    "print(\"\\n The result of the probability is: P(A)/P(B)= \",str(Result))"
   ]
  }
 ],
 "metadata": {
  "kernelspec": {
   "display_name": "Python 3",
   "language": "python",
   "name": "python3"
  },
  "language_info": {
   "codemirror_mode": {
    "name": "ipython",
    "version": 3
   },
   "file_extension": ".py",
   "mimetype": "text/x-python",
   "name": "python",
   "nbconvert_exporter": "python",
   "pygments_lexer": "ipython3",
   "version": "3.7.6"
  }
 },
 "nbformat": 4,
 "nbformat_minor": 4
}
